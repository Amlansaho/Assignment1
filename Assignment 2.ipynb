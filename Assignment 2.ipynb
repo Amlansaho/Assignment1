{
 "cells": [
  {
   "cell_type": "code",
   "execution_count": 5,
   "metadata": {},
   "outputs": [
    {
     "name": "stdout",
     "output_type": "stream",
     "text": [
      "answer is : 20\n"
     ]
    }
   ],
   "source": [
    "## Task 1 - no.1.1\n",
    "def myreduce(func,list1):\n",
    "    res = list1[0]\n",
    "    n = len(list1)\n",
    "    for i in range(1,n):\n",
    "        res = func(res, list1[i])\n",
    "    return res\n",
    "\n",
    "def sum(x,y):\n",
    "    z = x+y\n",
    "    return z\n",
    "\n",
    "list1 = [1, 2, 6, 4, 7]\n",
    "\n",
    "result = myreduce(sum, list1)\n",
    "print(\"answer is :\",result )"
   ]
  },
  {
   "cell_type": "code",
   "execution_count": 10,
   "metadata": {},
   "outputs": [
    {
     "name": "stdout",
     "output_type": "stream",
     "text": [
      "[4, 6, 8, 10, 34, 56, 78]\n"
     ]
    }
   ],
   "source": [
    "## Task 1 - no.1.2\n",
    "def myfilter(func, l):\n",
    "    x = []\n",
    "    \n",
    "    for i in l:\n",
    "        z = func(i)\n",
    "        if(z!=None):\n",
    "            x.append(z)\n",
    "    return x\n",
    "\n",
    "def even(n):\n",
    "    if n%2 == 0:\n",
    "        return n\n",
    "    \n",
    "l = [3,4,6,7,8,10,34,56,78,45,9,1]\n",
    "result = myfilter(even,l)\n",
    "\n",
    "print(result)"
   ]
  },
  {
   "cell_type": "code",
   "execution_count": 11,
   "metadata": {},
   "outputs": [
    {
     "name": "stdout",
     "output_type": "stream",
     "text": [
      "['A', 'C', 'A', 'D', 'G', 'I', 'L', 'D']\n",
      "['x', 'xx', 'xxx', 'xxxx', 'y', 'yy', 'yyy', 'yyyy', 'z', 'zz', 'zzz', 'zzzz']\n",
      "['x', 'y', 'z', 'xx', 'yy', 'zz', 'xxx', 'yyy', 'zzz', 'xxxx', 'yyyy', 'zzzz']\n",
      "[[2], [3], [4], [3], [4], [5], [4], [5], [6]]\n",
      "[[2, 3, 4, 5], [3, 4, 5, 6], [4, 5, 6, 7], [5, 6, 7, 8]]\n",
      "[(1, 1), (2, 1), (3, 1), (1, 2), (2, 2), (3, 2), (1, 3), (2, 3), (3, 3)]\n"
     ]
    }
   ],
   "source": [
    "## Task 1 - no.2\n",
    "\n",
    "l = [i for i in 'ACADGILD']\n",
    "print(l)\n",
    "\n",
    "list1 = [i * j for j in ['x', 'y', 'z'] for i in range(1, 5)]\n",
    "print(list1)\n",
    "\n",
    "list2 = [i * j for j in range(1, 5) for i in ['x', 'y', 'z']]\n",
    "print(list2)\n",
    "\n",
    "list3 = [[i + j] for j in [0, 1, 2] for i in range(2, 5)]\n",
    "print(list3)\n",
    "\n",
    "list4 = [[i + j for j in [0, 1, 2, 3]] for i in range(2, 6)]\n",
    "print(list4)\n",
    "\n",
    "list5 = [(i,j) for j in [1, 2, 3] for i in [1, 2, 3]]\n",
    "print(list5)"
   ]
  },
  {
   "cell_type": "code",
   "execution_count": 15,
   "metadata": {},
   "outputs": [
    {
     "data": {
      "text/plain": [
       "'watermelon'"
      ]
     },
     "execution_count": 15,
     "metadata": {},
     "output_type": "execute_result"
    }
   ],
   "source": [
    "## Task 1 - no.3\n",
    "Words = ['apple','orange','mango','guava','watermelon']\n",
    "def func():\n",
    "    list1 = []\n",
    "\n",
    "    for i in range(len(Words)):\n",
    "        list1.append(len(Words[i]))\n",
    "    z = max(list1)\n",
    "    for i in Words:\n",
    "        if(len(i)==z):\n",
    "            return i\n",
    "func()"
   ]
  },
  {
   "cell_type": "code",
   "execution_count": 19,
   "metadata": {},
   "outputs": [
    {
     "name": "stdout",
     "output_type": "stream",
     "text": [
      "30.0\n"
     ]
    }
   ],
   "source": [
    "## Task 2 - no.1.1\n",
    "\n",
    "class Box:\n",
    "    def __init__(self, n):\n",
    "        self.sides = n\n",
    "        \n",
    "class Triangle(Polygon):\n",
    "    def __init__(self, lengths):\n",
    "        Box.__init__(self, 3)\n",
    "        self.lengths = lengths\n",
    "\n",
    "    def area(self):\n",
    "        a, b, c = self.lengths\n",
    "        s = (a + b + c) / 2\n",
    "        return (s*(s-a)*(s-b)*(s-c)) ** 0.5\n",
    "    \n",
    "\n",
    "t = Triangle([5,12,13])\n",
    "print(t.area())"
   ]
  },
  {
   "cell_type": "code",
   "execution_count": 20,
   "metadata": {},
   "outputs": [
    {
     "name": "stdout",
     "output_type": "stream",
     "text": [
      "['orange', 'watermelon']\n"
     ]
    }
   ],
   "source": [
    "## Task 2 - no.1.2\n",
    "def filter_long_words(words, n):\n",
    "    l = []\n",
    "    for i in words:\n",
    "        if(len(i)>n):\n",
    "            l.append(i)\n",
    "    return l\n",
    "\n",
    "res = filter_long_words(['apple','orange','mango','guava','watermelon'], 5)\n",
    "print(res)"
   ]
  },
  {
   "cell_type": "code",
   "execution_count": 21,
   "metadata": {},
   "outputs": [
    {
     "data": {
      "text/plain": [
       "[2, 3, 4]"
      ]
     },
     "execution_count": 21,
     "metadata": {},
     "output_type": "execute_result"
    }
   ],
   "source": [
    "## Task 2 - no.2.1\n",
    "def mapwords(words):\n",
    "    return [len(i) for i in words]\n",
    "\n",
    "words = ['ab', 'cde', 'erty']\n",
    "mapwords(words)"
   ]
  },
  {
   "cell_type": "code",
   "execution_count": 26,
   "metadata": {},
   "outputs": [
    {
     "name": "stdout",
     "output_type": "stream",
     "text": [
      "True\n",
      "False\n"
     ]
    }
   ],
   "source": [
    "## Task 2 - no.2.2\n",
    "def is_vowel(c):\n",
    "    vowels = ('a', 'e', 'i', 'o', 'u')\n",
    "    if c in vowels:\n",
    "        return True\n",
    "    else:\n",
    "        return False\n",
    "\n",
    "print(is_vowel('e'))\n",
    "print(is_vowel('d'))"
   ]
  },
  {
   "cell_type": "code",
   "execution_count": null,
   "metadata": {},
   "outputs": [],
   "source": []
  }
 ],
 "metadata": {
  "kernelspec": {
   "display_name": "Python 3",
   "language": "python",
   "name": "python3"
  },
  "language_info": {
   "codemirror_mode": {
    "name": "ipython",
    "version": 3
   },
   "file_extension": ".py",
   "mimetype": "text/x-python",
   "name": "python",
   "nbconvert_exporter": "python",
   "pygments_lexer": "ipython3",
   "version": "3.7.6"
  }
 },
 "nbformat": 4,
 "nbformat_minor": 4
}
